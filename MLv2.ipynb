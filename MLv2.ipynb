{
 "cells": [
  {
   "cell_type": "markdown",
   "metadata": {},
   "source": [
    "EXAMPLE OF PANEL"
   ]
  },
  {
   "cell_type": "code",
   "execution_count": null,
   "metadata": {},
   "outputs": [],
   "source": [
    "%pip install panel\n",
    "%pip install jupyter_bokeh"
   ]
  },
  {
   "cell_type": "code",
   "execution_count": null,
   "metadata": {},
   "outputs": [],
   "source": [
    "import panel as pn\n",
    "import numpy as np\n",
    "import pandas as pd\n",
    "import os\n",
    "import joblib\n",
    "from sklearn.model_selection import train_test_split\n",
    "from lazypredict.Supervised import LazyClassifier\n",
    "from sklearn.ensemble import RandomForestClassifier\n",
    "\n",
    "# Enable Panel extensions\n",
    "pn.extension()\n",
    "\n",
    "# Define the dataset path\n",
    "dataset_path = \"./input/crop-recommendation-dataset/Crop_Recommendation.csv\"\n",
    "\n",
    "# Load dataset if it exists\n",
    "if os.path.exists(dataset_path):\n",
    "    data = pd.read_csv(dataset_path)\n",
    "    print(\"Dataset loaded successfully.\")\n",
    "else:\n",
    "    raise FileNotFoundError(f\"Dataset not found at {dataset_path}. Please check the file path.\")\n",
    "\n"
   ]
  },
  {
   "cell_type": "code",
   "execution_count": null,
   "metadata": {},
   "outputs": [],
   "source": [
    "# Splitting Features and Target Variable\n",
    "X = data.drop('Crop', axis=1)  # Features\n",
    "y = data['Crop']  # Target variable\n",
    "\n",
    "# Split data \n",
    "X_train, X_test, y_train, y_test = train_test_split(X, y, test_size=0.2, random_state=5)\n",
    "\n",
    "# Train a Random Forest Classifier\n",
    "rf = RandomForestClassifier()\n",
    "rf.fit(X_train, y_train)\n",
    "\n"
   ]
  },
  {
   "cell_type": "code",
   "execution_count": null,
   "metadata": {},
   "outputs": [],
   "source": [
    "# Save the trained model\n",
    "model_filename = \"random_forest_model.pkl\"\n",
    "joblib.dump(rf, model_filename)\n",
    "print(f\"Model saved as {model_filename}\")"
   ]
  },
  {
   "cell_type": "code",
   "execution_count": 1,
   "metadata": {},
   "outputs": [
    {
     "name": "stdout",
     "output_type": "stream",
     "text": [
      "Maximum values for each parameter:\n",
      "Nitrogen        40.000000\n",
      "Phosphorus      40.000000\n",
      "Potassium       35.000000\n",
      "Temperature     35.990097\n",
      "Humidity        54.964053\n",
      "pH_Value         6.967418\n",
      "Rainfall       100.812466\n",
      "dtype: float64\n"
     ]
    }
   ],
   "source": [
    "import pandas as pd\n",
    "\n",
    "# Load CSV file\n",
    "csv_path = \"mango.csv\"  # Ensure this file exists in your working directory\n",
    "\n",
    "# Read the CSV\n",
    "df = pd.read_csv(csv_path)\n",
    "\n",
    "# Check if the CSV is empty\n",
    "if df.empty:\n",
    "    raise ValueError(\"The CSV file is empty.\")\n",
    "\n",
    "# Calculate the maximum value for each column\n",
    "max_values = df.max()\n",
    "\n",
    "# Display the results\n",
    "print(\"Maximum values for each parameter:\")\n",
    "print(max_values)\n"
   ]
  },
  {
   "cell_type": "code",
   "execution_count": null,
   "metadata": {},
   "outputs": [],
   "source": []
  }
 ],
 "metadata": {
  "kernelspec": {
   "display_name": "venv",
   "language": "python",
   "name": "python3"
  },
  "language_info": {
   "codemirror_mode": {
    "name": "ipython",
    "version": 3
   },
   "file_extension": ".py",
   "mimetype": "text/x-python",
   "name": "python",
   "nbconvert_exporter": "python",
   "pygments_lexer": "ipython3",
   "version": "3.12.2"
  }
 },
 "nbformat": 4,
 "nbformat_minor": 2
}
